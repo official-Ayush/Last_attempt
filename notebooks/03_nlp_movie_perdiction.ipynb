{
 "cells": [
  {
   "cell_type": "code",
   "execution_count": 1,
   "id": "6f9ea43d",
   "metadata": {},
   "outputs": [],
   "source": [
    "import sys\n",
    "import os\n",
    "import pandas as pd\n",
    "from sklearn.metrics.pairwise import cosine_similarity\n",
    "\n",
    "# Add the project root to sys.path\n",
    "sys.path.append(os.path.abspath(os.path.join(os.getcwd(), '..')))\n"
   ]
  },
  {
   "cell_type": "code",
   "execution_count": 6,
   "id": "013c5a8a",
   "metadata": {},
   "outputs": [
    {
     "name": "stderr",
     "output_type": "stream",
     "text": [
      "Device set to use cpu\n"
     ]
    },
    {
     "name": "stdout",
     "output_type": "stream",
     "text": [
      "<transformers.pipelines.text_classification.TextClassificationPipeline object at 0x000001FC03B62BA0>\n"
     ]
    }
   ],
   "source": [
    "from transformers import pipeline\n",
    "\n",
    "# Load a DistilRoBERTa model trained on Ekman-style emotions\n",
    "classifier = pipeline(\"text-classification\", model=\"j-hartmann/emotion-english-distilroberta-base\", return_all_scores=True)\n",
    "\n",
    "# Example texts\n",
    "texts = [\n",
    "    \"I'm so happy to see you again!\",\n",
    "    \"This is absolutely disgusting.\",\n",
    "    \"I'm scared of what's coming next.\",\n",
    "    \"I feel nothing right now.\",\n",
    "    \"I can't believe this happened!\",\n",
    "    \"Why did you lie to me?\"\n",
    "]\n",
    "print(classifier)\n",
    "# Run emotion classification\n",
    "# for text in texts:\n",
    "#     results = classifier(text)[0]  # Get list of scores\n",
    "#     results_sorted = sorted(results, key=lambda x: x['score'], reverse=True)\n",
    "#     top_emotion = results_sorted[0]\n",
    "    \n",
    "#     print(f\"Text: {text}\")\n",
    "#     print(f\"Top Emotion: {top_emotion['label']} ({top_emotion['score']:.2f})\")\n",
    "#     print(\"-\" * 40)\n"
   ]
  },
  {
   "cell_type": "code",
   "execution_count": null,
   "id": "f775ea87",
   "metadata": {},
   "outputs": [],
   "source": []
  }
 ],
 "metadata": {
  "kernelspec": {
   "display_name": ".venv (3.12.1)",
   "language": "python",
   "name": "python3"
  },
  "language_info": {
   "codemirror_mode": {
    "name": "ipython",
    "version": 3
   },
   "file_extension": ".py",
   "mimetype": "text/x-python",
   "name": "python",
   "nbconvert_exporter": "python",
   "pygments_lexer": "ipython3",
   "version": "3.12.1"
  }
 },
 "nbformat": 4,
 "nbformat_minor": 5
}
