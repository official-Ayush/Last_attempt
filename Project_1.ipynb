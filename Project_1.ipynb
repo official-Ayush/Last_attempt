{
 "cells": [
  {
   "cell_type": "markdown",
   "id": "c6b63dcb",
   "metadata": {},
   "source": [
    "### 📚 Import all the necessary library first  "
   ]
  },
  {
   "cell_type": "code",
   "execution_count": 24,
   "id": "b7d80565",
   "metadata": {},
   "outputs": [],
   "source": [
    "import pandas as pd \n",
    "import matplotlib.pyplot as plt\n",
    "import numpy as np\n",
    "import seaborn as sns\n",
    "from zlib import crc32"
   ]
  },
  {
   "cell_type": "markdown",
   "id": "81cf7438",
   "metadata": {},
   "source": [
    "### 🔁 Now import necessary dataset "
   ]
  },
  {
   "cell_type": "code",
   "execution_count": 25,
   "id": "2e0b9c7e",
   "metadata": {},
   "outputs": [
    {
     "name": "stdout",
     "output_type": "stream",
     "text": [
      "<class 'pandas.core.frame.DataFrame'>\n",
      "Index: 22084 entries, 0 to 9741\n",
      "Data columns (total 3 columns):\n",
      " #   Column   Non-Null Count  Dtype \n",
      "---  ------   --------------  ----- \n",
      " 0   movieId  22084 non-null  int64 \n",
      " 1   title    22084 non-null  object\n",
      " 2   genres   22084 non-null  object\n",
      "dtypes: int64(1), object(2)\n",
      "memory usage: 690.1+ KB\n"
     ]
    },
    {
     "name": "stderr",
     "output_type": "stream",
     "text": [
      "<>:2: SyntaxWarning: invalid escape sequence '\\B'\n",
      "<>:2: SyntaxWarning: invalid escape sequence '\\B'\n",
      "C:\\Users\\WorkStation\\AppData\\Local\\Temp\\ipykernel_20024\\1871065881.py:2: SyntaxWarning: invalid escape sequence '\\B'\n",
      "  movies = pd.read_csv(\"D:\\Boring_Project1\\data\\movies.csv\")\n"
     ]
    }
   ],
   "source": [
    "# Since I am working with two dataset so I am gonna import both of them and do some data cleansing\n",
    "movies = pd.read_csv(\"D:\\Boring_Project1\\data\\movies.csv\") \n",
    "movies[\"genres\"] = movies[\"genres\"].str.split(\"|\")\n",
    "movies_explode = movies.explode(\"genres\")\n",
    "\n",
    "movies_explode.info()"
   ]
  },
  {
   "cell_type": "markdown",
   "id": "6585dc82",
   "metadata": {},
   "source": [
    "### Below is the second dataset to be imported"
   ]
  },
  {
   "cell_type": "code",
   "execution_count": 26,
   "id": "4d5e3535",
   "metadata": {},
   "outputs": [
    {
     "name": "stdout",
     "output_type": "stream",
     "text": [
      "<class 'pandas.core.frame.DataFrame'>\n",
      "RangeIndex: 100836 entries, 0 to 100835\n",
      "Data columns (total 4 columns):\n",
      " #   Column   Non-Null Count   Dtype  \n",
      "---  ------   --------------   -----  \n",
      " 0   userId   100836 non-null  int64  \n",
      " 1   movieId  100836 non-null  int64  \n",
      " 2   rating   100836 non-null  float64\n",
      " 3   date     100836 non-null  object \n",
      "dtypes: float64(1), int64(2), object(1)\n",
      "memory usage: 3.1+ MB\n"
     ]
    }
   ],
   "source": [
    "ratings = pd.read_csv(r\"D:\\Boring_Project1\\data\\ratings.csv\")\n",
    "# Since the timestamp is in seconds we will use datetime method from pandas to convert it.\n",
    "ratings[\"date\"] = pd.to_datetime(ratings[\"timestamp\"], unit='s') \n",
    "ratings = ratings.drop([\"timestamp\"], axis=1)  # dropping the datetime column for uncessary changes \n",
    "ratings[\"date\"] = ratings[\"date\"].dt.date # getting only date and excluding the time.\n",
    "ratings.info()"
   ]
  },
  {
   "cell_type": "markdown",
   "id": "e8a70f92",
   "metadata": {},
   "source": [
    "### Merge the dataset "
   ]
  },
  {
   "cell_type": "code",
   "execution_count": 27,
   "id": "16d092eb",
   "metadata": {},
   "outputs": [
    {
     "data": {
      "text/html": [
       "<div>\n",
       "<style scoped>\n",
       "    .dataframe tbody tr th:only-of-type {\n",
       "        vertical-align: middle;\n",
       "    }\n",
       "\n",
       "    .dataframe tbody tr th {\n",
       "        vertical-align: top;\n",
       "    }\n",
       "\n",
       "    .dataframe thead th {\n",
       "        text-align: right;\n",
       "    }\n",
       "</style>\n",
       "<table border=\"1\" class=\"dataframe\">\n",
       "  <thead>\n",
       "    <tr style=\"text-align: right;\">\n",
       "      <th></th>\n",
       "      <th>movieId</th>\n",
       "      <th>title</th>\n",
       "      <th>genres</th>\n",
       "      <th>userId</th>\n",
       "      <th>rating</th>\n",
       "      <th>date</th>\n",
       "    </tr>\n",
       "  </thead>\n",
       "  <tbody>\n",
       "    <tr>\n",
       "      <th>0</th>\n",
       "      <td>1</td>\n",
       "      <td>Toy Story (1995)</td>\n",
       "      <td>Adventure</td>\n",
       "      <td>1</td>\n",
       "      <td>4.0</td>\n",
       "      <td>2000-07-30</td>\n",
       "    </tr>\n",
       "    <tr>\n",
       "      <th>1</th>\n",
       "      <td>1</td>\n",
       "      <td>Toy Story (1995)</td>\n",
       "      <td>Adventure</td>\n",
       "      <td>5</td>\n",
       "      <td>4.0</td>\n",
       "      <td>1996-11-08</td>\n",
       "    </tr>\n",
       "    <tr>\n",
       "      <th>2</th>\n",
       "      <td>1</td>\n",
       "      <td>Toy Story (1995)</td>\n",
       "      <td>Adventure</td>\n",
       "      <td>7</td>\n",
       "      <td>4.5</td>\n",
       "      <td>2005-01-25</td>\n",
       "    </tr>\n",
       "    <tr>\n",
       "      <th>3</th>\n",
       "      <td>1</td>\n",
       "      <td>Toy Story (1995)</td>\n",
       "      <td>Adventure</td>\n",
       "      <td>15</td>\n",
       "      <td>2.5</td>\n",
       "      <td>2017-11-13</td>\n",
       "    </tr>\n",
       "    <tr>\n",
       "      <th>4</th>\n",
       "      <td>1</td>\n",
       "      <td>Toy Story (1995)</td>\n",
       "      <td>Adventure</td>\n",
       "      <td>17</td>\n",
       "      <td>4.5</td>\n",
       "      <td>2011-05-18</td>\n",
       "    </tr>\n",
       "    <tr>\n",
       "      <th>5</th>\n",
       "      <td>1</td>\n",
       "      <td>Toy Story (1995)</td>\n",
       "      <td>Adventure</td>\n",
       "      <td>18</td>\n",
       "      <td>3.5</td>\n",
       "      <td>2016-02-11</td>\n",
       "    </tr>\n",
       "    <tr>\n",
       "      <th>6</th>\n",
       "      <td>1</td>\n",
       "      <td>Toy Story (1995)</td>\n",
       "      <td>Adventure</td>\n",
       "      <td>19</td>\n",
       "      <td>4.0</td>\n",
       "      <td>2000-08-08</td>\n",
       "    </tr>\n",
       "    <tr>\n",
       "      <th>7</th>\n",
       "      <td>1</td>\n",
       "      <td>Toy Story (1995)</td>\n",
       "      <td>Adventure</td>\n",
       "      <td>21</td>\n",
       "      <td>3.5</td>\n",
       "      <td>2014-08-09</td>\n",
       "    </tr>\n",
       "    <tr>\n",
       "      <th>8</th>\n",
       "      <td>1</td>\n",
       "      <td>Toy Story (1995)</td>\n",
       "      <td>Adventure</td>\n",
       "      <td>27</td>\n",
       "      <td>3.0</td>\n",
       "      <td>2000-07-04</td>\n",
       "    </tr>\n",
       "    <tr>\n",
       "      <th>9</th>\n",
       "      <td>1</td>\n",
       "      <td>Toy Story (1995)</td>\n",
       "      <td>Adventure</td>\n",
       "      <td>31</td>\n",
       "      <td>5.0</td>\n",
       "      <td>1996-12-13</td>\n",
       "    </tr>\n",
       "  </tbody>\n",
       "</table>\n",
       "</div>"
      ],
      "text/plain": [
       "   movieId             title     genres  userId  rating        date\n",
       "0        1  Toy Story (1995)  Adventure       1     4.0  2000-07-30\n",
       "1        1  Toy Story (1995)  Adventure       5     4.0  1996-11-08\n",
       "2        1  Toy Story (1995)  Adventure       7     4.5  2005-01-25\n",
       "3        1  Toy Story (1995)  Adventure      15     2.5  2017-11-13\n",
       "4        1  Toy Story (1995)  Adventure      17     4.5  2011-05-18\n",
       "5        1  Toy Story (1995)  Adventure      18     3.5  2016-02-11\n",
       "6        1  Toy Story (1995)  Adventure      19     4.0  2000-08-08\n",
       "7        1  Toy Story (1995)  Adventure      21     3.5  2014-08-09\n",
       "8        1  Toy Story (1995)  Adventure      27     3.0  2000-07-04\n",
       "9        1  Toy Story (1995)  Adventure      31     5.0  1996-12-13"
      ]
     },
     "execution_count": 27,
     "metadata": {},
     "output_type": "execute_result"
    }
   ],
   "source": [
    "df = movies_explode.merge(ratings) # use explode method to merge\n",
    "df.head(10)"
   ]
  },
  {
   "cell_type": "code",
   "execution_count": 28,
   "id": "f9e4809d",
   "metadata": {},
   "outputs": [
    {
     "name": "stdout",
     "output_type": "stream",
     "text": [
      "<class 'pandas.core.frame.DataFrame'>\n",
      "RangeIndex: 274480 entries, 0 to 274479\n",
      "Data columns (total 6 columns):\n",
      " #   Column   Non-Null Count   Dtype  \n",
      "---  ------   --------------   -----  \n",
      " 0   movieId  274480 non-null  int64  \n",
      " 1   title    274480 non-null  object \n",
      " 2   genres   274480 non-null  object \n",
      " 3   userId   274480 non-null  int64  \n",
      " 4   rating   274480 non-null  float64\n",
      " 5   date     274480 non-null  object \n",
      "dtypes: float64(1), int64(2), object(3)\n",
      "memory usage: 12.6+ MB\n"
     ]
    }
   ],
   "source": [
    "df.info()"
   ]
  },
  {
   "cell_type": "code",
   "execution_count": 29,
   "id": "72da29a1",
   "metadata": {},
   "outputs": [
    {
     "data": {
      "text/html": [
       "<div>\n",
       "<style scoped>\n",
       "    .dataframe tbody tr th:only-of-type {\n",
       "        vertical-align: middle;\n",
       "    }\n",
       "\n",
       "    .dataframe tbody tr th {\n",
       "        vertical-align: top;\n",
       "    }\n",
       "\n",
       "    .dataframe thead th {\n",
       "        text-align: right;\n",
       "    }\n",
       "</style>\n",
       "<table border=\"1\" class=\"dataframe\">\n",
       "  <thead>\n",
       "    <tr style=\"text-align: right;\">\n",
       "      <th></th>\n",
       "      <th>movieId</th>\n",
       "      <th>title</th>\n",
       "      <th>genres</th>\n",
       "      <th>userId</th>\n",
       "      <th>rating</th>\n",
       "      <th>date</th>\n",
       "    </tr>\n",
       "  </thead>\n",
       "  <tbody>\n",
       "    <tr>\n",
       "      <th>3</th>\n",
       "      <td>1</td>\n",
       "      <td>Toy Story (1995)</td>\n",
       "      <td>Adventure</td>\n",
       "      <td>15</td>\n",
       "      <td>2.5</td>\n",
       "      <td>2017-11-13</td>\n",
       "    </tr>\n",
       "    <tr>\n",
       "      <th>23</th>\n",
       "      <td>1</td>\n",
       "      <td>Toy Story (1995)</td>\n",
       "      <td>Adventure</td>\n",
       "      <td>68</td>\n",
       "      <td>2.5</td>\n",
       "      <td>2006-09-17</td>\n",
       "    </tr>\n",
       "    <tr>\n",
       "      <th>26</th>\n",
       "      <td>1</td>\n",
       "      <td>Toy Story (1995)</td>\n",
       "      <td>Adventure</td>\n",
       "      <td>76</td>\n",
       "      <td>0.5</td>\n",
       "      <td>2015-08-10</td>\n",
       "    </tr>\n",
       "    <tr>\n",
       "      <th>28</th>\n",
       "      <td>1</td>\n",
       "      <td>Toy Story (1995)</td>\n",
       "      <td>Adventure</td>\n",
       "      <td>82</td>\n",
       "      <td>2.5</td>\n",
       "      <td>2004-05-13</td>\n",
       "    </tr>\n",
       "    <tr>\n",
       "      <th>43</th>\n",
       "      <td>1</td>\n",
       "      <td>Toy Story (1995)</td>\n",
       "      <td>Adventure</td>\n",
       "      <td>132</td>\n",
       "      <td>2.0</td>\n",
       "      <td>2006-09-10</td>\n",
       "    </tr>\n",
       "    <tr>\n",
       "      <th>...</th>\n",
       "      <td>...</td>\n",
       "      <td>...</td>\n",
       "      <td>...</td>\n",
       "      <td>...</td>\n",
       "      <td>...</td>\n",
       "      <td>...</td>\n",
       "    </tr>\n",
       "    <tr>\n",
       "      <th>274449</th>\n",
       "      <td>190207</td>\n",
       "      <td>Tilt (2011)</td>\n",
       "      <td>Romance</td>\n",
       "      <td>338</td>\n",
       "      <td>1.5</td>\n",
       "      <td>2018-06-28</td>\n",
       "    </tr>\n",
       "    <tr>\n",
       "      <th>274451</th>\n",
       "      <td>190213</td>\n",
       "      <td>John From (2015)</td>\n",
       "      <td>Drama</td>\n",
       "      <td>338</td>\n",
       "      <td>1.0</td>\n",
       "      <td>2018-06-28</td>\n",
       "    </tr>\n",
       "    <tr>\n",
       "      <th>274452</th>\n",
       "      <td>190215</td>\n",
       "      <td>Liquid Truth (2017)</td>\n",
       "      <td>Drama</td>\n",
       "      <td>338</td>\n",
       "      <td>1.5</td>\n",
       "      <td>2018-06-28</td>\n",
       "    </tr>\n",
       "    <tr>\n",
       "      <th>274453</th>\n",
       "      <td>190219</td>\n",
       "      <td>Bunny (1998)</td>\n",
       "      <td>Animation</td>\n",
       "      <td>338</td>\n",
       "      <td>1.0</td>\n",
       "      <td>2018-06-28</td>\n",
       "    </tr>\n",
       "    <tr>\n",
       "      <th>274454</th>\n",
       "      <td>190221</td>\n",
       "      <td>Hommage à Zgougou (et salut à Sabine Mamou) (2...</td>\n",
       "      <td>Documentary</td>\n",
       "      <td>338</td>\n",
       "      <td>1.0</td>\n",
       "      <td>2018-06-28</td>\n",
       "    </tr>\n",
       "  </tbody>\n",
       "</table>\n",
       "<p>50350 rows × 6 columns</p>\n",
       "</div>"
      ],
      "text/plain": [
       "        movieId                                              title  \\\n",
       "3             1                                   Toy Story (1995)   \n",
       "23            1                                   Toy Story (1995)   \n",
       "26            1                                   Toy Story (1995)   \n",
       "28            1                                   Toy Story (1995)   \n",
       "43            1                                   Toy Story (1995)   \n",
       "...         ...                                                ...   \n",
       "274449   190207                                        Tilt (2011)   \n",
       "274451   190213                                   John From (2015)   \n",
       "274452   190215                                Liquid Truth (2017)   \n",
       "274453   190219                                       Bunny (1998)   \n",
       "274454   190221  Hommage à Zgougou (et salut à Sabine Mamou) (2...   \n",
       "\n",
       "             genres  userId  rating        date  \n",
       "3         Adventure      15     2.5  2017-11-13  \n",
       "23        Adventure      68     2.5  2006-09-17  \n",
       "26        Adventure      76     0.5  2015-08-10  \n",
       "28        Adventure      82     2.5  2004-05-13  \n",
       "43        Adventure     132     2.0  2006-09-10  \n",
       "...             ...     ...     ...         ...  \n",
       "274449      Romance     338     1.5  2018-06-28  \n",
       "274451        Drama     338     1.0  2018-06-28  \n",
       "274452        Drama     338     1.5  2018-06-28  \n",
       "274453    Animation     338     1.0  2018-06-28  \n",
       "274454  Documentary     338     1.0  2018-06-28  \n",
       "\n",
       "[50350 rows x 6 columns]"
      ]
     },
     "execution_count": 29,
     "metadata": {},
     "output_type": "execute_result"
    }
   ],
   "source": [
    "df[df[\"rating\"] < 3]"
   ]
  },
  {
   "cell_type": "code",
   "execution_count": 30,
   "id": "6e81e038",
   "metadata": {},
   "outputs": [
    {
     "name": "stdout",
     "output_type": "stream",
     "text": [
      "<class 'pandas.core.frame.DataFrame'>\n",
      "RangeIndex: 274480 entries, 0 to 274479\n",
      "Data columns (total 6 columns):\n",
      " #   Column   Non-Null Count   Dtype  \n",
      "---  ------   --------------   -----  \n",
      " 0   movieId  274480 non-null  int64  \n",
      " 1   title    274480 non-null  object \n",
      " 2   genres   274480 non-null  object \n",
      " 3   userId   274480 non-null  int64  \n",
      " 4   rating   274480 non-null  float64\n",
      " 5   date     274480 non-null  object \n",
      "dtypes: float64(1), int64(2), object(3)\n",
      "memory usage: 12.6+ MB\n"
     ]
    }
   ],
   "source": [
    "df.info()"
   ]
  },
  {
   "cell_type": "markdown",
   "id": "0d54c975",
   "metadata": {},
   "source": [
    "### 📊 Plot the analysis "
   ]
  },
  {
   "cell_type": "code",
   "execution_count": 31,
   "id": "40437c77",
   "metadata": {},
   "outputs": [
    {
     "data": {
      "image/png": "[encoded data removed]",
      "text/plain": [
       "<Figure size 1000x600 with 1 Axes>"
      ]
     },
     "metadata": {},
     "output_type": "display_data"
    }
   ],
   "source": [
    "# Plot a histogram of the ratings\n",
    "plt.figure(figsize=(10, 6))\n",
    "df['rating'].plot(kind='hist', bins=10, color='steelblue', edgecolor='black')\n",
    "plt.title('Distribution of Movie Ratings')\n",
    "plt.xlabel('Rating')\n",
    "plt.ylabel('Frequency')\n",
    "plt.show()\n"
   ]
  },
  {
   "cell_type": "markdown",
   "id": "bc8f9144",
   "metadata": {},
   "source": [
    "### 📖 divise your dataset "
   ]
  },
  {
   "cell_type": "code",
   "execution_count": 32,
   "id": "cfbad9e9",
   "metadata": {},
   "outputs": [],
   "source": [
    "\n",
    "from sklearn.model_selection import train_test_split\n",
    "train_set, test_set = train_test_split(df, test_size=0.2, random_state=42)"
   ]
  },
  {
   "cell_type": "code",
   "execution_count": 41,
   "id": "d9a020ea",
   "metadata": {},
   "outputs": [],
   "source": [
    "df['rating_cat'] = pd.cut(df['rating'],\n",
    "                          bins=[0.0, 1.5, 3.0, 4.5, 5.0],\n",
    "                          labels=[1, 2, 3, 4])\n"
   ]
  },
  {
   "cell_type": "code",
   "execution_count": 34,
   "id": "cdbf05ba",
   "metadata": {},
   "outputs": [],
   "source": [
    "from sklearn.model_selection import StratifiedShuffleSplit\n",
    "# using stratified shuffling to safely train our model from baising towards Imbalance data\n",
    "split = StratifiedShuffleSplit(n_splits=1, test_size=0.2, random_state=42)\n",
    "for train_index, test_index in split.split(df, df[\"rating_cat\"]):\n",
    " strat_train_set = df.loc[train_index]\n",
    " strat_test_set = df.loc[test_index]\n",
    "# for exact reference how its been done see part I of chapter 2 from Hand on machine learning book by Aurelien-Geron"
   ]
  },
  {
   "cell_type": "markdown",
   "id": "be89ba06",
   "metadata": {},
   "source": [
    "### Checking how much rating category proportions in the overall dataset"
   ]
  },
  {
   "cell_type": "code",
   "execution_count": 35,
   "id": "36c5c02c",
   "metadata": {},
   "outputs": [
    {
     "data": {
      "text/plain": [
       "rating_cat\n",
       "3    0.485955\n",
       "2    0.324851\n",
       "4    0.132797\n",
       "1    0.056398\n",
       "Name: count, dtype: float64"
      ]
     },
     "execution_count": 35,
     "metadata": {},
     "output_type": "execute_result"
    }
   ],
   "source": [
    "strat_test_set[\"rating_cat\"].value_counts() / len(strat_test_set)"
   ]
  },
  {
   "cell_type": "code",
   "execution_count": 38,
   "id": "3a571892",
   "metadata": {},
   "outputs": [
    {
     "data": {
      "text/html": [
       "<div>\n",
       "<style scoped>\n",
       "    .dataframe tbody tr th:only-of-type {\n",
       "        vertical-align: middle;\n",
       "    }\n",
       "\n",
       "    .dataframe tbody tr th {\n",
       "        vertical-align: top;\n",
       "    }\n",
       "\n",
       "    .dataframe thead th {\n",
       "        text-align: right;\n",
       "    }\n",
       "</style>\n",
       "<table border=\"1\" class=\"dataframe\">\n",
       "  <thead>\n",
       "    <tr style=\"text-align: right;\">\n",
       "      <th></th>\n",
       "      <th>Overall %</th>\n",
       "      <th>Stratified %</th>\n",
       "      <th>Random %</th>\n",
       "      <th>Strat. Error %</th>\n",
       "      <th>Rand. Error %</th>\n",
       "    </tr>\n",
       "    <tr>\n",
       "      <th>Ratings Category</th>\n",
       "      <th></th>\n",
       "      <th></th>\n",
       "      <th></th>\n",
       "      <th></th>\n",
       "      <th></th>\n",
       "    </tr>\n",
       "  </thead>\n",
       "  <tbody>\n",
       "    <tr>\n",
       "      <th>1</th>\n",
       "      <td>5.64</td>\n",
       "      <td>5.64</td>\n",
       "      <td>5.65</td>\n",
       "      <td>0.01</td>\n",
       "      <td>0.27</td>\n",
       "    </tr>\n",
       "    <tr>\n",
       "      <th>2</th>\n",
       "      <td>32.48</td>\n",
       "      <td>32.49</td>\n",
       "      <td>32.42</td>\n",
       "      <td>0.00</td>\n",
       "      <td>-0.21</td>\n",
       "    </tr>\n",
       "    <tr>\n",
       "      <th>3</th>\n",
       "      <td>48.60</td>\n",
       "      <td>48.60</td>\n",
       "      <td>48.54</td>\n",
       "      <td>-0.00</td>\n",
       "      <td>-0.11</td>\n",
       "    </tr>\n",
       "    <tr>\n",
       "      <th>4</th>\n",
       "      <td>13.28</td>\n",
       "      <td>13.28</td>\n",
       "      <td>13.39</td>\n",
       "      <td>-0.01</td>\n",
       "      <td>0.82</td>\n",
       "    </tr>\n",
       "  </tbody>\n",
       "</table>\n",
       "</div>"
      ],
      "text/plain": [
       "                  Overall %  Stratified %  Random %  Strat. Error %  \\\n",
       "Ratings Category                                                      \n",
       "1                      5.64          5.64      5.65            0.01   \n",
       "2                     32.48         32.49     32.42            0.00   \n",
       "3                     48.60         48.60     48.54           -0.00   \n",
       "4                     13.28         13.28     13.39           -0.01   \n",
       "\n",
       "                  Rand. Error %  \n",
       "Ratings Category                 \n",
       "1                          0.27  \n",
       "2                         -0.21  \n",
       "3                         -0.11  \n",
       "4                          0.82  "
      ]
     },
     "execution_count": 38,
     "metadata": {},
     "output_type": "execute_result"
    }
   ],
   "source": [
    "def ratings_prop(data):\n",
    "    return data[\"rating_cat\"].value_counts() / len(data)\n",
    "\n",
    "train_set, test_set = train_test_split(df, test_size=0.2, random_state=42)\n",
    "\n",
    "compare_props = pd.DataFrame({\n",
    "    \"Overall %\": ratings_prop(df),\n",
    "    \"Stratified %\": ratings_prop(strat_test_set),\n",
    "    \"Random %\": ratings_prop(test_set),\n",
    "}).sort_index()\n",
    "compare_props.index.name = \"Ratings Category\"\n",
    "compare_props[\"Strat. Error %\"] = (compare_props[\"Stratified %\"] /\n",
    "                                   compare_props[\"Overall %\"] - 1)\n",
    "compare_props[\"Rand. Error %\"] = (compare_props[\"Random %\"] /\n",
    "                                  compare_props[\"Overall %\"] - 1)\n",
    "(compare_props * 100).round(2)"
   ]
  },
  {
   "cell_type": "code",
   "execution_count": 42,
   "id": "efce0394",
   "metadata": {},
   "outputs": [],
   "source": [
    "for set_ in (strat_train_set, strat_test_set):\n",
    " set_.drop(\"rating_cat\", axis=1, inplace=True)"
   ]
  },
  {
   "cell_type": "code",
   "execution_count": 39,
   "id": "7ba4df31",
   "metadata": {},
   "outputs": [],
   "source": [
    "df = strat_train_set.copy()"
   ]
  },
  {
   "cell_type": "code",
   "execution_count": null,
   "id": "5d0924ac",
   "metadata": {},
   "outputs": [],
   "source": []
  }
 ],
 "metadata": {
  "kernelspec": {
   "display_name": ".venv (3.12.1)",
   "language": "python",
   "name": "python3"
  },
  "language_info": {
   "codemirror_mode": {
    "name": "ipython",
    "version": 3
   },
   "file_extension": ".py",
   "mimetype": "text/x-python",
   "name": "python",
   "nbconvert_exporter": "python",
   "pygments_lexer": "ipython3",
   "version": "3.12.1"
  }
 },
 "nbformat": 4,
 "nbformat_minor": 5
}
